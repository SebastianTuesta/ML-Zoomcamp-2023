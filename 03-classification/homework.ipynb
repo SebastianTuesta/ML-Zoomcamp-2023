{
 "cells": [
  {
   "cell_type": "markdown",
   "metadata": {},
   "source": [
    "# Data preparation"
   ]
  },
  {
   "cell_type": "code",
   "execution_count": 21,
   "metadata": {},
   "outputs": [],
   "source": [
    "import pandas as pd\n",
    "\n",
    "data = pd.read_csv('https://raw.githubusercontent.com/alexeygrigorev/mlbookcamp-code/master/chapter-02-car-price/data.csv')\n",
    "data = data[[\n",
    "    'Make', 'Model', 'Year', 'Engine HP', 'Engine Cylinders',\n",
    "    'Transmission Type', 'Vehicle Style', 'highway MPG', 'city mpg',\n",
    "    'MSRP'\n",
    "]]"
   ]
  },
  {
   "cell_type": "code",
   "execution_count": 22,
   "metadata": {},
   "outputs": [],
   "source": [
    "data.columns = data.columns.str.replace(' ', '_').str.lower()"
   ]
  },
  {
   "cell_type": "code",
   "execution_count": 30,
   "metadata": {},
   "outputs": [],
   "source": [
    "data.fillna(0, inplace=True)\n",
    "data.rename({'msrp': 'price'}, axis='columns', inplace=True)"
   ]
  },
  {
   "cell_type": "code",
   "execution_count": 31,
   "metadata": {},
   "outputs": [
    {
     "data": {
      "text/plain": [
       "Index(['make', 'model', 'year', 'engine_hp', 'engine_cylinders',\n",
       "       'transmission_type', 'vehicle_style', 'highway_mpg', 'city_mpg',\n",
       "       'price'],\n",
       "      dtype='object')"
      ]
     },
     "execution_count": 31,
     "metadata": {},
     "output_type": "execute_result"
    }
   ],
   "source": [
    "data.columns"
   ]
  },
  {
   "cell_type": "markdown",
   "metadata": {},
   "source": [
    "# Question 1"
   ]
  },
  {
   "cell_type": "code",
   "execution_count": 32,
   "metadata": {},
   "outputs": [
    {
     "data": {
      "text/plain": [
       "<Axes: >"
      ]
     },
     "execution_count": 32,
     "metadata": {},
     "output_type": "execute_result"
    },
    {
     "data": {
      "image/png": "[encoded data removed]",
      "text/plain": [
       "<Figure size 640x480 with 1 Axes>"
      ]
     },
     "metadata": {},
     "output_type": "display_data"
    }
   ],
   "source": [
    "data['transmission_type'].hist() #AUTOMATIC"
   ]
  },
  {
   "cell_type": "markdown",
   "metadata": {},
   "source": [
    "# Question 2"
   ]
  },
  {
   "cell_type": "code",
   "execution_count": 33,
   "metadata": {},
   "outputs": [
    {
     "data": {
      "text/html": [
       "<div>\n",
       "<style scoped>\n",
       "    .dataframe tbody tr th:only-of-type {\n",
       "        vertical-align: middle;\n",
       "    }\n",
       "\n",
       "    .dataframe tbody tr th {\n",
       "        vertical-align: top;\n",
       "    }\n",
       "\n",
       "    .dataframe thead th {\n",
       "        text-align: right;\n",
       "    }\n",
       "</style>\n",
       "<table border=\"1\" class=\"dataframe\">\n",
       "  <thead>\n",
       "    <tr style=\"text-align: right;\">\n",
       "      <th></th>\n",
       "      <th>year</th>\n",
       "      <th>engine_hp</th>\n",
       "      <th>engine_cylinders</th>\n",
       "      <th>highway_mpg</th>\n",
       "      <th>city_mpg</th>\n",
       "    </tr>\n",
       "  </thead>\n",
       "  <tbody>\n",
       "    <tr>\n",
       "      <th>year</th>\n",
       "      <td>1.000000</td>\n",
       "      <td>0.338714</td>\n",
       "      <td>-0.040708</td>\n",
       "      <td>0.258240</td>\n",
       "      <td>0.198171</td>\n",
       "    </tr>\n",
       "    <tr>\n",
       "      <th>engine_hp</th>\n",
       "      <td>0.338714</td>\n",
       "      <td>1.000000</td>\n",
       "      <td>0.774851</td>\n",
       "      <td>-0.415707</td>\n",
       "      <td>-0.424918</td>\n",
       "    </tr>\n",
       "    <tr>\n",
       "      <th>engine_cylinders</th>\n",
       "      <td>-0.040708</td>\n",
       "      <td>0.774851</td>\n",
       "      <td>1.000000</td>\n",
       "      <td>-0.614541</td>\n",
       "      <td>-0.587306</td>\n",
       "    </tr>\n",
       "    <tr>\n",
       "      <th>highway_mpg</th>\n",
       "      <td>0.258240</td>\n",
       "      <td>-0.415707</td>\n",
       "      <td>-0.614541</td>\n",
       "      <td>1.000000</td>\n",
       "      <td>0.886829</td>\n",
       "    </tr>\n",
       "    <tr>\n",
       "      <th>city_mpg</th>\n",
       "      <td>0.198171</td>\n",
       "      <td>-0.424918</td>\n",
       "      <td>-0.587306</td>\n",
       "      <td>0.886829</td>\n",
       "      <td>1.000000</td>\n",
       "    </tr>\n",
       "  </tbody>\n",
       "</table>\n",
       "</div>"
      ],
      "text/plain": [
       "                      year  engine_hp  engine_cylinders  highway_mpg  city_mpg\n",
       "year              1.000000   0.338714         -0.040708     0.258240  0.198171\n",
       "engine_hp         0.338714   1.000000          0.774851    -0.415707 -0.424918\n",
       "engine_cylinders -0.040708   0.774851          1.000000    -0.614541 -0.587306\n",
       "highway_mpg       0.258240  -0.415707         -0.614541     1.000000  0.886829\n",
       "city_mpg          0.198171  -0.424918         -0.587306     0.886829  1.000000"
      ]
     },
     "execution_count": 33,
     "metadata": {},
     "output_type": "execute_result"
    }
   ],
   "source": [
    "data[['year', 'engine_hp', 'engine_cylinders', 'highway_mpg', 'city_mpg']].corr()\n",
    "# highway_mpg and city_mpg"
   ]
  },
  {
   "cell_type": "markdown",
   "metadata": {},
   "source": [
    "# Question 3"
   ]
  },
  {
   "cell_type": "code",
   "execution_count": 37,
   "metadata": {},
   "outputs": [],
   "source": [
    "data['above_average'] = data['price'] > data['price'].mean()\n",
    "data['above_average'] = data['above_average'].astype(int)"
   ]
  },
  {
   "cell_type": "code",
   "execution_count": 41,
   "metadata": {},
   "outputs": [],
   "source": [
    "from sklearn.model_selection import train_test_split\n",
    "data_train, data_test = train_test_split(data, random_state=42, test_size=0.2)\n",
    "data_train, data_val = train_test_split(data_train, random_state=42, test_size=0.25)"
   ]
  },
  {
   "cell_type": "code",
   "execution_count": 44,
   "metadata": {},
   "outputs": [
    {
     "name": "stdout",
     "output_type": "stream",
     "text": [
      "make 0.23976875439118345\n",
      "model 0.46234389209653004\n",
      "transmission_type 0.020957541896301862\n",
      "vehicle_style 0.0841430195677944\n"
     ]
    }
   ],
   "source": [
    "from sklearn.metrics import mutual_info_score\n",
    "\n",
    "cat_feat = ['make', 'model', 'transmission_type', 'vehicle_style']\n",
    "\n",
    "# model\n",
    "for cat_feat_i in cat_feat:\n",
    "    print(cat_feat_i, mutual_info_score(data_train['above_average'], data_train[cat_feat_i]))"
   ]
  },
  {
   "cell_type": "markdown",
   "metadata": {},
   "source": [
    "# Question 4"
   ]
  },
  {
   "cell_type": "code",
   "execution_count": 106,
   "metadata": {},
   "outputs": [
    {
     "name": "stdout",
     "output_type": "stream",
     "text": [
      "0.9341166596726815\n"
     ]
    }
   ],
   "source": [
    "from sklearn.linear_model import LogisticRegression\n",
    "from sklearn.compose import ColumnTransformer\n",
    "from sklearn.preprocessing import OneHotEncoder\n",
    "from sklearn.metrics import accuracy_score\n",
    "\n",
    "X_train = data_train.drop([\"price\", \"above_average\"], axis=1)\n",
    "y_train = data_train[\"above_average\"]\n",
    "\n",
    "enc = ColumnTransformer(\n",
    "        transformers=[\n",
    "            (\"one-hot-encode\", OneHotEncoder(), [\"make\", \"model\", \"transmission_type\", \"vehicle_style\"]),\n",
    "        ]\n",
    "    )\n",
    "\n",
    "model = LogisticRegression(solver='liblinear', C=10, max_iter=1000, random_state=42)\n",
    "\n",
    "X_val = data_val.drop([\"price\", \"above_average\"], axis=1)\n",
    "y_val = data_val[\"above_average\"]\n",
    "\n",
    "enc.fit(data.drop([\"price\", \"above_average\"], axis=1))\n",
    "model.fit(enc.transform(X_train), y_train)\n",
    "\n",
    "acc = accuracy_score(model.predict(enc.transform(X_val)), y_val)\n",
    "print(acc)"
   ]
  },
  {
   "cell_type": "markdown",
   "metadata": {},
   "source": [
    "# Question 5"
   ]
  },
  {
   "cell_type": "code",
   "execution_count": 92,
   "metadata": {},
   "outputs": [
    {
     "name": "stdout",
     "output_type": "stream",
     "text": [
      "Column excluded:  make\n",
      "0.002937473772555599\n",
      "Column excluded:  model\n",
      "0.0809903483004617\n",
      "Column excluded:  year\n",
      "0.0\n",
      "Column excluded:  engine_hp\n",
      "0.0\n",
      "Column excluded:  engine_cylinders\n",
      "0.0\n",
      "Column excluded:  transmission_type\n",
      "-0.0008392782207301552\n",
      "Column excluded:  vehicle_style\n",
      "0.011330255979857373\n",
      "Column excluded:  highway_mpg\n",
      "0.0\n",
      "Column excluded:  city_mpg\n",
      "0.0\n"
     ]
    }
   ],
   "source": [
    "for col in data.columns.drop([\"price\", \"above_average\"]):\n",
    "    print(\"Column excluded: \", col)\n",
    "    \n",
    "    X_train = data_train.drop([col,\"price\", \"above_average\"], axis=1)\n",
    "    y_train = data_train[\"above_average\"]\n",
    "\n",
    "    enc_columns = [\"make\", \"model\", \"transmission_type\", \"vehicle_style\"]\n",
    "\n",
    "    if col in enc_columns:\n",
    "         enc_columns.remove(col)\n",
    "\n",
    "    enc = ColumnTransformer(\n",
    "            transformers=[\n",
    "                (\"one-hot-encode\", OneHotEncoder(),  enc_columns),\n",
    "            ]\n",
    "        )\n",
    "\n",
    "    model = LogisticRegression(solver='liblinear', C=10, max_iter=1000, random_state=42)\n",
    "\n",
    "    X_val = data_val.drop([col, \"price\", \"above_average\"], axis=1)\n",
    "    y_val = data_val[\"above_average\"]\n",
    "\n",
    "    enc.fit(data.drop([col, \"price\", \"above_average\"], axis=1))\n",
    "    model.fit(enc.transform(X_train), y_train)\n",
    "\n",
    "    new_acc = accuracy_score(model.predict(enc.transform(X_val)), y_val)\n",
    "    print(acc-new_acc)\n",
    "\n",
    "# transmission_type"
   ]
  },
  {
   "cell_type": "markdown",
   "metadata": {},
   "source": [
    "# Question 6"
   ]
  },
  {
   "cell_type": "code",
   "execution_count": 105,
   "metadata": {},
   "outputs": [
    {
     "name": "stdout",
     "output_type": "stream",
     "text": [
      "0 0.283\n",
      "0.01 0.28\n",
      "0.1 0.278\n",
      "1 0.33\n",
      "10 0.587\n"
     ]
    }
   ],
   "source": [
    "from sklearn.linear_model import Ridge\n",
    "from sklearn.compose import ColumnTransformer\n",
    "from sklearn.preprocessing import OneHotEncoder\n",
    "from sklearn.metrics import mean_squared_error\n",
    "import numpy as np\n",
    "\n",
    "X_train = data_train.drop([\"price\", \"above_average\"], axis=1)\n",
    "y_train = np.log(data_train[\"price\"])\n",
    "\n",
    "enc = ColumnTransformer(\n",
    "    transformers=[\n",
    "        (\"one-hot-encode\", OneHotEncoder(), [\"make\", \"model\", \"transmission_type\", \"vehicle_style\"]),\n",
    "    ]\n",
    ")\n",
    "\n",
    "X_val = data_val.drop([\"price\", \"above_average\"], axis=1)\n",
    "y_val = np.log(data_val[\"price\"])\n",
    "\n",
    "enc.fit(data.drop([\"price\", \"above_average\"], axis=1))\n",
    "\n",
    "for alpha in [0, 0.01, 0.1, 1, 10]:\n",
    "    model = Ridge(solver='sag', random_state=42, alpha=alpha)\n",
    "    model.fit(enc.transform(X_train), y_train)\n",
    "    acc = mean_squared_error(model.predict(enc.transform(X_val)), y_val, squared=False)\n",
    "    print(alpha, round(acc, 3))\n",
    "\n",
    "# 0.1"
   ]
  }
 ],
 "metadata": {
  "kernelspec": {
   "display_name": "base",
   "language": "python",
   "name": "python3"
  },
  "language_info": {
   "codemirror_mode": {
    "name": "ipython",
    "version": 3
   },
   "file_extension": ".py",
   "mimetype": "text/x-python",
   "name": "python",
   "nbconvert_exporter": "python",
   "pygments_lexer": "ipython3",
   "version": "3.10.9"
  },
  "orig_nbformat": 4
 },
 "nbformat": 4,
 "nbformat_minor": 2
}
