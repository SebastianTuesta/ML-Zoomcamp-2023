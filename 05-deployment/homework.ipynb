{
 "cells": [
  {
   "cell_type": "markdown",
   "metadata": {},
   "source": [
    "# Question 1"
   ]
  },
  {
   "cell_type": "code",
   "execution_count": 1,
   "metadata": {},
   "outputs": [
    {
     "name": "stdout",
     "output_type": "stream",
     "text": [
      "Collecting pipenv\n",
      "  Downloading pipenv-2023.10.3-py3-none-any.whl (3.2 MB)\n",
      "     ---------------------------------------- 3.2/3.2 MB 5.5 MB/s eta 0:00:00\n",
      "Collecting virtualenv>=20.24.2\n",
      "  Downloading virtualenv-20.24.5-py3-none-any.whl (3.7 MB)\n",
      "     ---------------------------------------- 3.7/3.7 MB 6.0 MB/s eta 0:00:00\n",
      "Collecting setuptools>=67\n",
      "  Downloading setuptools-68.2.2-py3-none-any.whl (807 kB)\n",
      "     -------------------------------------- 807.9/807.9 kB 5.7 MB/s eta 0:00:00\n",
      "Requirement already satisfied: certifi in c:\\users\\tuest\\anaconda3\\lib\\site-packages (from pipenv) (2022.12.7)\n",
      "Collecting filelock<4,>=3.12.2\n",
      "  Downloading filelock-3.12.4-py3-none-any.whl (11 kB)\n",
      "Collecting platformdirs<4,>=3.9.1\n",
      "  Downloading platformdirs-3.11.0-py3-none-any.whl (17 kB)\n",
      "Collecting distlib<1,>=0.3.7\n",
      "  Downloading distlib-0.3.7-py2.py3-none-any.whl (468 kB)\n",
      "     -------------------------------------- 468.9/468.9 kB 5.8 MB/s eta 0:00:00\n",
      "Installing collected packages: distlib, setuptools, platformdirs, filelock, virtualenv, pipenv\n",
      "  Attempting uninstall: setuptools\n",
      "    Found existing installation: setuptools 65.6.3\n",
      "    Uninstalling setuptools-65.6.3:\n",
      "      Successfully uninstalled setuptools-65.6.3\n",
      "  Attempting uninstall: platformdirs\n",
      "    Found existing installation: platformdirs 3.8.1\n",
      "    Uninstalling platformdirs-3.8.1:\n",
      "      Successfully uninstalled platformdirs-3.8.1\n",
      "  Attempting uninstall: filelock\n",
      "    Found existing installation: filelock 3.9.0\n",
      "    Uninstalling filelock-3.9.0:\n",
      "      Successfully uninstalled filelock-3.9.0\n",
      "Successfully installed distlib-0.3.7 filelock-3.12.4 pipenv-2023.10.3 platformdirs-3.11.0 setuptools-68.2.2 virtualenv-20.24.5\n"
     ]
    },
    {
     "name": "stderr",
     "output_type": "stream",
     "text": [
      "ERROR: pip's dependency resolver does not currently take into account all the packages that are installed. This behaviour is the source of the following dependency conflicts.\n",
      "conda-repo-cli 1.0.41 requires requests_mock, which is not installed.\n",
      "tensorflow-intel 2.13.0 requires typing-extensions<4.6.0,>=3.6.6, but you have typing-extensions 4.8.0 which is incompatible.\n",
      "snowflake-connector-python 3.2.0 requires platformdirs<3.9.0,>=2.6.0, but you have platformdirs 3.11.0 which is incompatible.\n",
      "conda-repo-cli 1.0.41 requires clyent==1.2.1, but you have clyent 1.2.2 which is incompatible.\n",
      "conda-repo-cli 1.0.41 requires nbformat==5.4.0, but you have nbformat 5.7.0 which is incompatible.\n"
     ]
    }
   ],
   "source": [
    "!pip install pipenv"
   ]
  },
  {
   "cell_type": "code",
   "execution_count": 2,
   "metadata": {},
   "outputs": [
    {
     "name": "stdout",
     "output_type": "stream",
     "text": [
      "pipenv, version 2023.10.3\n"
     ]
    }
   ],
   "source": [
    "!pipenv --version "
   ]
  },
  {
   "cell_type": "markdown",
   "metadata": {},
   "source": [
    "# Question 2"
   ]
  },
  {
   "cell_type": "code",
   "execution_count": 3,
   "metadata": {},
   "outputs": [
    {
     "name": "stdout",
     "output_type": "stream",
     "text": [
      "[    ] Creating virtual environment..."
     ]
    },
    {
     "name": "stderr",
     "output_type": "stream",
     "text": [
      "Creating a virtualenv for this project...\n",
      "Pipfile: C:\\Users\\tuest\\OneDrive\\Escritorio\\ML zoomcamp\\05-deployment\\Pipfile\n",
      "Using default python from C:\\Users\\tuest\\anaconda3\\python.exe (3.10.9) to create virtualenv...\n",
      "created virtual environment CPython3.10.9.final.0-64 in 16622ms\n",
      "  creator CPython3Windows(dest=C:\\Users\\tuest\\.virtualenvs\\05-deployment-gIs7AK0Y, clear=False, no_vcs_ignore=False, global=False)\n",
      "  seeder FromAppData(download=False, pip=bundle, setuptools=bundle, wheel=bundle, via=copy, app_data_dir=C:\\Users\\tuest\\AppData\\Local\\pypa\\virtualenv)\n",
      "    added seed packages: pip==23.2.1, setuptools==68.2.0, wheel==0.41.2\n",
      "  activators BashActivator,BatchActivator,FishActivator,NushellActivator,PowerShellActivator,PythonActivator\n",
      "\n",
      "Successfully created virtual environment!\n",
      "Virtualenv location: C:\\Users\\tuest\\.virtualenvs\\05-deployment-gIs7AK0Y\n",
      "Creating a Pipfile for this project...\n",
      "Pipfile.lock not found, creating...\n",
      "Locking [packages] dependencies...\n",
      "Locking [dev-packages] dependencies...\n",
      "Updated Pipfile.lock (fedbd2ab7afd84cf16f128af0619749267b62277b4cb6989ef16d4bef6e4eef2)!\n"
     ]
    },
    {
     "name": "stdout",
     "output_type": "stream",
     "text": [
      "\n",
      "[=   ] Creating virtual environment...\n",
      "[==  ] Creating virtual environment...\n",
      "[=== ] Creating virtual environment...\n",
      "[ ===] Creating virtual environment...\n",
      "[  ==] Creating virtual environment...\n",
      "[    ] Creating virtual environment...\n",
      "[   =] Creating virtual environment...\n",
      "[  ==] Creating virtual environment...\n",
      "[ ===] Creating virtual environment...\n",
      "[====] Creating virtual environment...\n",
      "[=== ] Creating virtual environment...\n",
      "[=   ] Creating virtual environment...\n",
      "[    ] Creating virtual environment...\n",
      "[=   ] Creating virtual environment...\n",
      "[==  ] Creating virtual environment...\n",
      "[=== ] Creating virtual environment...\n",
      "[ ===] Creating virtual environment...\n",
      "[   =] Creating virtual environment...\n",
      "[    ] Creating virtual environment...\n",
      "[   =] Creating virtual environment...\n",
      "[  ==] Creating virtual environment...\n",
      "[ ===] Creating virtual environment...\n",
      "[====] Creating virtual environment...\n",
      "[==  ] Creating virtual environment...\n",
      "[=   ] Creating virtual environment...\n",
      "[    ] Creating virtual environment...\n",
      "[=   ] Creating virtual environment...\n",
      "[=== ] Creating virtual environment...\n",
      "[ ===] Creating virtual environment...\n",
      "[  ==] Creating virtual environment...\n",
      "[   =] Creating virtual environment...\n",
      "[    ] Creating virtual environment...\n",
      "[  ==] Creating virtual environment...\n",
      "[ ===] Creating virtual environment...\n",
      "[====] Creating virtual environment...\n",
      "[=== ] Creating virtual environment...\n",
      "[==  ] Creating virtual environment...\n",
      "[=   ] Creating virtual environment...\n",
      "[=   ] Creating virtual environment...\n",
      "[==  ] Creating virtual environment...\n",
      "[=== ] Creating virtual environment...\n",
      "[ ===] Creating virtual environment...\n",
      "[  ==] Creating virtual environment...\n",
      "[    ] Creating virtual environment...\n",
      "[   =] Creating virtual environment...\n",
      "[  ==] Creating virtual environment...\n",
      "[ ===] Creating virtual environment...\n",
      "[=== ] Creating virtual environment...\n",
      "[==  ] Creating virtual environment...\n",
      "[=   ] Creating virtual environment...\n",
      "[    ] Creating virtual environment...\n",
      "[=   ] Creating virtual environment...\n",
      "[==  ] Creating virtual environment...\n",
      "[=== ] Creating virtual environment...\n",
      "[  ==] Creating virtual environment...\n",
      "[   =] Creating virtual environment...\n",
      "[    ] Creating virtual environment...\n",
      "[   =] Creating virtual environment...\n",
      "[  ==] Creating virtual environment...\n",
      "[ ===] Creating virtual environment...\n",
      "[=== ] Creating virtual environment...\n",
      "[==  ] Creating virtual environment...\n",
      "[=   ] Creating virtual environment...\n",
      "[    ] Creating virtual environment...\n",
      "[=   ] Creating virtual environment...\n",
      "[=== ] Creating virtual environment...\n",
      "[ ===] Creating virtual environment...\n",
      "[  ==] Creating virtual environment...\n",
      "[   =] Creating virtual environment...\n",
      "[    ] Creating virtual environment...\n",
      "[   =] Creating virtual environment...\n",
      "[ ===] Creating virtual environment...\n",
      "[====] Creating virtual environment...\n",
      "[=== ] Creating virtual environment...\n",
      "[==  ] Creating virtual environment...\n",
      "[=   ] Creating virtual environment...\n",
      "[=   ] Creating virtual environment...\n",
      "[==  ] Creating virtual environment...\n",
      "[=== ] Creating virtual environment...\n",
      "[ ===] Creating virtual environment...\n",
      "[  ==] Creating virtual environment...\n",
      "[    ] Creating virtual environment...\n",
      "[   =] Creating virtual environment...\n",
      "[  ==] Creating virtual environment...\n",
      "[ ===] Creating virtual environment...\n",
      "[=== ] Creating virtual environment...\n",
      "[==  ] Creating virtual environment...\n",
      "[=   ] Creating virtual environment...\n",
      "[    ] Creating virtual environment...\n",
      "[==  ] Creating virtual environment...\n",
      "[=== ] Creating virtual environment...\n",
      "[ ===] Creating virtual environment...\n",
      "[  ==] Creating virtual environment...\n",
      "[    ] Creating virtual environment...\n",
      "[   =] Creating virtual environment...\n",
      "[  ==] Creating virtual environment...\n",
      "[ ===] Creating virtual environment...\n",
      "[====] Creating virtual environment...\n",
      "[=== ] Creating virtual environment...\n",
      "[=   ] Creating virtual environment...\n",
      "[    ] Creating virtual environment...\n",
      "[=   ] Creating virtual environment...\n",
      "[==  ] Creating virtual environment...\n",
      "[ ===] Creating virtual environment...\n",
      "[  ==] Creating virtual environment...\n",
      "[   =] Creating virtual environment...\n",
      "[    ] Creating virtual environment...\n",
      "[   =] Creating virtual environment...\n",
      "[  ==] Creating virtual environment...\n",
      "[====] Creating virtual environment...\n",
      "[=== ] Creating virtual environment...\n",
      "[==  ] Creating virtual environment...\n",
      "[=   ] Creating virtual environment...\n",
      "[    ] Creating virtual environment...\n",
      "[==  ] Creating virtual environment...\n",
      "[=== ] Creating virtual environment...\n",
      "[ ===] Creating virtual environment...\n",
      "[  ==] Creating virtual environment...\n",
      "[   =] Creating virtual environment...\n",
      "[    ] Creating virtual environment...\n",
      "[  ==] Creating virtual environment...\n",
      "[ ===] Creating virtual environment...\n",
      "[====] Creating virtual environment...\n",
      "[=== ] Creating virtual environment...\n",
      "[==  ] Creating virtual environment...\n",
      "[    ] Creating virtual environment...\n",
      "[=   ] Creating virtual environment...\n",
      "[==  ] Creating virtual environment...\n",
      "[=== ] Creating virtual environment...\n",
      "[ ===] Creating virtual environment...\n",
      "[  ==] Creating virtual environment...\n",
      "[    ] Creating virtual environment...\n",
      "[   =] Creating virtual environment...\n",
      "[  ==] Creating virtual environment...\n",
      "[ ===] Creating virtual environment...\n",
      "[====] Creating virtual environment...\n",
      "[=== ] Creating virtual environment...\n",
      "[=   ] Creating virtual environment...\n",
      "[    ] Creating virtual environment...\n",
      "[=   ] Creating virtual environment...\n",
      "[==  ] Creating virtual environment...\n",
      "[=== ] Creating virtual environment...\n",
      "[ ===] Creating virtual environment...\n",
      "[   =] Creating virtual environment...\n",
      "[    ] Creating virtual environment...\n",
      "[   =] Creating virtual environment...\n",
      "[  ==] Creating virtual environment...\n",
      "[ ===] Creating virtual environment...\n",
      "[=== ] Creating virtual environment...\n",
      "[==  ] Creating virtual environment...\n",
      "[=   ] Creating virtual environment...\n",
      "[    ] Creating virtual environment...\n",
      "[=   ] Creating virtual environment...\n",
      "[=== ] Creating virtual environment...\n",
      "[ ===] Creating virtual environment...\n",
      "[  ==] Creating virtual environment...\n",
      "[   =] Creating virtual environment...\n",
      "[    ] Creating virtual environment...\n",
      "[   =] Creating virtual environment...\n",
      "[ ===] Creating virtual environment...\n",
      "[====] Creating virtual environment...\n",
      "[=== ] Creating virtual environment...\n",
      "[==  ] Creating virtual environment...\n",
      "[=   ] Creating virtual environment...\n",
      "[    ] Creating virtual environment...\n",
      "[==  ] Creating virtual environment...\n",
      "[=== ] Creating virtual environment...\n",
      "[ ===] Creating virtual environment...\n",
      "[  ==] Creating virtual environment...\n",
      "[   =] Creating virtual environment...\n",
      "[   =] Creating virtual environment...\n",
      "[  ==] Creating virtual environment...\n",
      "[ ===] Creating virtual environment...\n",
      "[====] Creating virtual environment...\n",
      "[=== ] Creating virtual environment...\n",
      "[==  ] Creating virtual environment...\n",
      "[    ] Creating virtual environment...\n",
      "[=   ] Creating virtual environment...\n",
      "[==  ] Creating virtual environment...\n",
      "[=== ] Creating virtual environment...\n",
      "[  ==] Creating virtual environment...\n",
      "[   =] Creating virtual environment...\n",
      "[    ] Creating virtual environment...\n",
      "[   =] Creating virtual environment...\n",
      "[  ==] Creating virtual environment...\n",
      "[ ===] Creating virtual environment...\n",
      "[=== ] Creating virtual environment...\n",
      "[==  ] Creating virtual environment...\n",
      "[=   ] Creating virtual environment...\n",
      "[    ] Creating virtual environment...\n",
      "[=   ] Creating virtual environment...\n",
      "[==  ] Creating virtual environment...\n",
      "[ ===] Creating virtual environment...\n",
      "[  ==] Creating virtual environment...\n",
      "[   =] Creating virtual environment...\n",
      "[    ] Creating virtual environment...\n",
      "\n",
      "Installing dependencies from Pipfile.lock (e4eef2)...\n",
      "To activate this project's virtualenv, run pipenv shell.\n",
      "Alternatively, run a command inside the virtualenv with pipenv run.\n"
     ]
    }
   ],
   "source": [
    "!pipenv install"
   ]
  },
  {
   "cell_type": "markdown",
   "metadata": {},
   "source": [
    "# Question 2"
   ]
  },
  {
   "cell_type": "markdown",
   "metadata": {},
   "source": [
    "```\n",
    "!pipenv shell\n",
    "```"
   ]
  },
  {
   "cell_type": "markdown",
   "metadata": {},
   "source": [
    "```\n",
    "!pipenv scikit-learn==1.3.1\n",
    "```"
   ]
  },
  {
   "cell_type": "markdown",
   "metadata": {},
   "source": [
    "```\n",
    "!pipenv lock -r\n",
    "```"
   ]
  },
  {
   "cell_type": "markdown",
   "metadata": {},
   "source": [
    "# Question 3"
   ]
  },
  {
   "cell_type": "code",
   "execution_count": 9,
   "metadata": {},
   "outputs": [
    {
     "name": "stderr",
     "output_type": "stream",
     "text": [
      "c:\\Users\\tuest\\anaconda3\\lib\\site-packages\\sklearn\\base.py:299: UserWarning: Trying to unpickle estimator DictVectorizer from version 1.3.1 when using version 1.2.1. This might lead to breaking code or invalid results. Use at your own risk. For more info please refer to:\n",
      "https://scikit-learn.org/stable/model_persistence.html#security-maintainability-limitations\n",
      "  warnings.warn(\n",
      "c:\\Users\\tuest\\anaconda3\\lib\\site-packages\\sklearn\\base.py:299: UserWarning: Trying to unpickle estimator LogisticRegression from version 1.3.1 when using version 1.2.1. This might lead to breaking code or invalid results. Use at your own risk. For more info please refer to:\n",
      "https://scikit-learn.org/stable/model_persistence.html#security-maintainability-limitations\n",
      "  warnings.warn(\n"
     ]
    }
   ],
   "source": [
    "import pickle\n",
    "\n",
    "with open('dv.bin', 'rb') as f1, open('model1.bin', 'rb')  as f2:\n",
    "    dv = pickle.load(f1)\n",
    "    model = pickle.load(f2)"
   ]
  },
  {
   "cell_type": "code",
   "execution_count": 11,
   "metadata": {},
   "outputs": [
    {
     "data": {
      "text/plain": [
       "0.9019309332297606"
      ]
     },
     "execution_count": 11,
     "metadata": {},
     "output_type": "execute_result"
    }
   ],
   "source": [
    "client = {\"job\": \"retired\", \"duration\": 445, \"poutcome\": \"success\"}\n",
    "\n",
    "X = dv.transform([client])\n",
    "y_pred = model.predict_proba(X)[0, 1]\n",
    "y_pred"
   ]
  },
  {
   "cell_type": "markdown",
   "metadata": {},
   "source": [
    "# Question 4"
   ]
  },
  {
   "cell_type": "markdown",
   "metadata": {},
   "source": [
    "```\n",
    "!pipenv install flask\n",
    "!pipenv install gunicorn\n",
    "```"
   ]
  },
  {
   "cell_type": "markdown",
   "metadata": {},
   "source": [
    "```\n",
    "./app.py\n",
    "```"
   ]
  },
  {
   "cell_type": "markdown",
   "metadata": {},
   "source": [
    "````\n",
    "python app.py\n",
    "``"
   ]
  },
  {
   "cell_type": "code",
   "execution_count": 12,
   "metadata": {},
   "outputs": [
    {
     "name": "stdout",
     "output_type": "stream",
     "text": [
      "{'get_card': False, 'get_card_probability': 0.13968947052356817}\n"
     ]
    }
   ],
   "source": [
    "import requests\n",
    "\n",
    "\n",
    "url = \"http://localhost:1234/predict\"\n",
    "\n",
    "client = {\"job\": \"unknown\", \"duration\": 270, \"poutcome\": \"failure\"}\n",
    "response = requests.post(url, json=client).json()\n",
    "\n",
    "print(response)"
   ]
  },
  {
   "cell_type": "markdown",
   "metadata": {},
   "source": [
    "# Question 5"
   ]
  },
  {
   "cell_type": "markdown",
   "metadata": {},
   "source": [
    "```\n",
    "docker pull svizor/zoomcamp-model:3.10.12-slim`\n",
    "```"
   ]
  },
  {
   "cell_type": "markdown",
   "metadata": {},
   "source": [
    "```\n",
    "docker images \"svizor/*\"\n",
    "```"
   ]
  },
  {
   "cell_type": "markdown",
   "metadata": {},
   "source": [
    "# Question 6"
   ]
  },
  {
   "cell_type": "markdown",
   "metadata": {},
   "source": [
    "```\n",
    "docker build -t model .\n",
    "docker run -d -p 1234:1234 model\n",
    "```"
   ]
  },
  {
   "cell_type": "code",
   "execution_count": 5,
   "metadata": {},
   "outputs": [
    {
     "name": "stdout",
     "output_type": "stream",
     "text": [
      "{'get_card': True, 'get_card_probability': 0.9019309332297606}\n"
     ]
    }
   ],
   "source": [
    "import requests\n",
    "\n",
    "\n",
    "url = \"http://localhost:1234/predict\"\n",
    "\n",
    "client = {\"job\": \"retired\", \"duration\": 445, \"poutcome\": \"success\"}\n",
    "response = requests.post(url, json=client).json()\n",
    "\n",
    "print(response)"
   ]
  }
 ],
 "metadata": {
  "kernelspec": {
   "display_name": "base",
   "language": "python",
   "name": "python3"
  },
  "language_info": {
   "codemirror_mode": {
    "name": "ipython",
    "version": 3
   },
   "file_extension": ".py",
   "mimetype": "text/x-python",
   "name": "python",
   "nbconvert_exporter": "python",
   "pygments_lexer": "ipython3",
   "version": "3.10.9"
  }
 },
 "nbformat": 4,
 "nbformat_minor": 2
}
