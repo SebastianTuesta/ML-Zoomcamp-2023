{
 "cells": [
  {
   "cell_type": "markdown",
   "metadata": {},
   "source": [
    "# Question 1"
   ]
  },
  {
   "cell_type": "code",
   "execution_count": 2,
   "metadata": {},
   "outputs": [],
   "source": [
    "import numpy as np\n",
    "import matplotlib.pyplot as plt\n",
    "\n",
    "from tensorflow.keras import layers\n",
    "from tensorflow.keras import models\n",
    "from tensorflow.keras import optimizers\n",
    "from tensorflow.keras import metrics\n",
    "\n",
    "from tensorflow.keras.preprocessing.image import ImageDataGenerator"
   ]
  },
  {
   "cell_type": "code",
   "execution_count": 3,
   "metadata": {},
   "outputs": [],
   "source": [
    "model = models.Sequential()\n",
    "\n",
    "model.add(layers.Conv2D(32, (3, 3), activation='relu',\n",
    "                        input_shape=(150, 150, 3)))\n",
    "model.add(layers.MaxPooling2D((2, 2)))\n",
    "model.add(layers.Flatten())\n",
    "model.add(layers.Dense(64, activation='relu'))\n",
    "model.add(layers.Dense(1, activation='sigmoid'))"
   ]
  },
  {
   "cell_type": "code",
   "execution_count": 4,
   "metadata": {},
   "outputs": [],
   "source": [
    "model.compile(loss='binary_crossentropy',\\\n",
    "             optimizer=optimizers.SGD(learning_rate=0.002, momentum=0.8),\\\n",
    "             metrics=[metrics.BinaryAccuracy()])"
   ]
  },
  {
   "cell_type": "markdown",
   "metadata": {},
   "source": [
    "# Question 2"
   ]
  },
  {
   "cell_type": "code",
   "execution_count": 5,
   "metadata": {},
   "outputs": [
    {
     "name": "stdout",
     "output_type": "stream",
     "text": [
      "Model: \"sequential\"\n",
      "_________________________________________________________________\n",
      " Layer (type)                Output Shape              Param #   \n",
      "=================================================================\n",
      " conv2d (Conv2D)             (None, 148, 148, 32)      896       \n",
      "                                                                 \n",
      " max_pooling2d (MaxPooling2  (None, 74, 74, 32)        0         \n",
      " D)                                                              \n",
      "                                                                 \n",
      " flatten (Flatten)           (None, 175232)            0         \n",
      "                                                                 \n",
      " dense (Dense)               (None, 64)                11214912  \n",
      "                                                                 \n",
      " dense_1 (Dense)             (None, 1)                 65        \n",
      "                                                                 \n",
      "=================================================================\n",
      "Total params: 11215873 (42.79 MB)\n",
      "Trainable params: 11215873 (42.79 MB)\n",
      "Non-trainable params: 0 (0.00 Byte)\n",
      "_________________________________________________________________\n"
     ]
    }
   ],
   "source": [
    "model.summary()"
   ]
  },
  {
   "cell_type": "markdown",
   "metadata": {},
   "source": [
    "# Question 3"
   ]
  },
  {
   "cell_type": "code",
   "execution_count": 6,
   "metadata": {},
   "outputs": [],
   "source": [
    "train_datagen = ImageDataGenerator(rescale=1./255)\n",
    "val_datagen = ImageDataGenerator(rescale=1./255)"
   ]
  },
  {
   "cell_type": "code",
   "execution_count": 7,
   "metadata": {},
   "outputs": [],
   "source": [
    "train_dir = './train'\n",
    "test_dir = './test'"
   ]
  },
  {
   "cell_type": "code",
   "execution_count": 8,
   "metadata": {},
   "outputs": [
    {
     "name": "stdout",
     "output_type": "stream",
     "text": [
      "Found 3677 images belonging to 2 classes.\n"
     ]
    }
   ],
   "source": [
    "train_generator = train_datagen.flow_from_directory(train_dir,\n",
    "                                                    target_size=(150, 150),\n",
    "                                                    batch_size=20,\n",
    "                                                    class_mode='binary',\n",
    "                                                    shuffle=True)"
   ]
  },
  {
   "cell_type": "code",
   "execution_count": 9,
   "metadata": {},
   "outputs": [
    {
     "name": "stdout",
     "output_type": "stream",
     "text": [
      "Found 918 images belonging to 2 classes.\n"
     ]
    }
   ],
   "source": [
    "validation_generator = val_datagen.flow_from_directory(test_dir,\n",
    "                                                    target_size=(150, 150),\n",
    "                                                    batch_size=20,\n",
    "                                                    class_mode='binary',\n",
    "                                                    shuffle=True)"
   ]
  },
  {
   "cell_type": "code",
   "execution_count": 10,
   "metadata": {},
   "outputs": [
    {
     "name": "stdout",
     "output_type": "stream",
     "text": [
      "Epoch 1/10\n",
      "184/184 [==============================] - 64s 343ms/step - loss: 0.6835 - binary_accuracy: 0.5553 - val_loss: 0.6530 - val_binary_accuracy: 0.6220\n",
      "Epoch 2/10\n",
      "184/184 [==============================] - 78s 425ms/step - loss: 0.6401 - binary_accuracy: 0.6307 - val_loss: 0.5973 - val_binary_accuracy: 0.6623\n",
      "Epoch 3/10\n",
      "184/184 [==============================] - 73s 397ms/step - loss: 0.5837 - binary_accuracy: 0.6902 - val_loss: 0.5785 - val_binary_accuracy: 0.6830\n",
      "Epoch 4/10\n",
      "184/184 [==============================] - 73s 394ms/step - loss: 0.5487 - binary_accuracy: 0.7267 - val_loss: 0.5641 - val_binary_accuracy: 0.7135\n",
      "Epoch 5/10\n",
      "184/184 [==============================] - 67s 363ms/step - loss: 0.5126 - binary_accuracy: 0.7547 - val_loss: 0.5399 - val_binary_accuracy: 0.7397\n",
      "Epoch 6/10\n",
      "184/184 [==============================] - 67s 362ms/step - loss: 0.4883 - binary_accuracy: 0.7743 - val_loss: 0.5103 - val_binary_accuracy: 0.7625\n",
      "Epoch 7/10\n",
      "184/184 [==============================] - 63s 345ms/step - loss: 0.4657 - binary_accuracy: 0.7862 - val_loss: 0.5426 - val_binary_accuracy: 0.7386\n",
      "Epoch 8/10\n",
      "184/184 [==============================] - 59s 318ms/step - loss: 0.4364 - binary_accuracy: 0.8066 - val_loss: 0.4983 - val_binary_accuracy: 0.7691\n",
      "Epoch 9/10\n",
      "184/184 [==============================] - 67s 361ms/step - loss: 0.4098 - binary_accuracy: 0.8213 - val_loss: 0.5085 - val_binary_accuracy: 0.7560\n",
      "Epoch 10/10\n",
      "184/184 [==============================] - 65s 354ms/step - loss: 0.3755 - binary_accuracy: 0.8404 - val_loss: 0.4886 - val_binary_accuracy: 0.7876\n"
     ]
    }
   ],
   "source": [
    "history = model.fit(\n",
    "    train_generator,\n",
    "    epochs=10,\n",
    "    validation_data=validation_generator)"
   ]
  },
  {
   "cell_type": "code",
   "execution_count": 11,
   "metadata": {},
   "outputs": [
    {
     "data": {
      "text/plain": [
       "0.7644819021224976"
      ]
     },
     "execution_count": 11,
     "metadata": {},
     "output_type": "execute_result"
    }
   ],
   "source": [
    "acc = history.history['binary_accuracy']\n",
    "acc_median = np.median(acc)\n",
    "acc_median"
   ]
  },
  {
   "cell_type": "markdown",
   "metadata": {},
   "source": [
    "# Question 4"
   ]
  },
  {
   "cell_type": "code",
   "execution_count": 30,
   "metadata": {},
   "outputs": [
    {
     "data": {
      "text/plain": [
       "0.09474461376189638"
      ]
     },
     "execution_count": 30,
     "metadata": {},
     "output_type": "execute_result"
    }
   ],
   "source": [
    "loss = history.history['loss']\n",
    "loss_std = np.std(loss)\n",
    "loss_std"
   ]
  },
  {
   "cell_type": "markdown",
   "metadata": {},
   "source": [
    "# Question 5"
   ]
  },
  {
   "cell_type": "code",
   "execution_count": 31,
   "metadata": {},
   "outputs": [],
   "source": [
    "train_datagen = ImageDataGenerator(\n",
    "    rescale=1./255,\n",
    "    rotation_range=50,\n",
    "    width_shift_range=0.1,\n",
    "    height_shift_range=0.1,\n",
    "    zoom_range=0.1,\n",
    "    horizontal_flip=True,\n",
    "    fill_mode='nearest')\n",
    "test_datagen = ImageDataGenerator(rescale=1./255)"
   ]
  },
  {
   "cell_type": "code",
   "execution_count": 32,
   "metadata": {},
   "outputs": [
    {
     "name": "stdout",
     "output_type": "stream",
     "text": [
      "Found 3677 images belonging to 2 classes.\n",
      "Found 918 images belonging to 2 classes.\n"
     ]
    }
   ],
   "source": [
    "train_generator = train_datagen.flow_from_directory(train_dir,\n",
    "                                                target_size=(150, 150),\n",
    "                                                batch_size=20,\n",
    "                                                class_mode='binary',\n",
    "                                                shuffle=True)\n",
    "\n",
    "validation_generator  = test_datagen.flow_from_directory(test_dir,\n",
    "                                                target_size=(150, 150),\n",
    "                                                batch_size=20,\n",
    "                                                class_mode='binary',\n",
    "                                                shuffle=True)"
   ]
  },
  {
   "cell_type": "code",
   "execution_count": 33,
   "metadata": {},
   "outputs": [
    {
     "name": "stdout",
     "output_type": "stream",
     "text": [
      "Epoch 1/20\n",
      "184/184 [==============================] - 95s 513ms/step - loss: 0.4967 - binary_accuracy: 0.7658 - val_loss: 0.4871 - val_binary_accuracy: 0.7745\n",
      "Epoch 2/20\n",
      "184/184 [==============================] - 85s 458ms/step - loss: 0.4902 - binary_accuracy: 0.7688 - val_loss: 0.4812 - val_binary_accuracy: 0.7789\n",
      "Epoch 3/20\n",
      "184/184 [==============================] - 73s 395ms/step - loss: 0.4748 - binary_accuracy: 0.7773 - val_loss: 0.5105 - val_binary_accuracy: 0.7549\n",
      "Epoch 4/20\n",
      "184/184 [==============================] - 75s 406ms/step - loss: 0.4703 - binary_accuracy: 0.7873 - val_loss: 0.5852 - val_binary_accuracy: 0.7200\n",
      "Epoch 5/20\n",
      "184/184 [==============================] - 75s 409ms/step - loss: 0.4769 - binary_accuracy: 0.7794 - val_loss: 0.5005 - val_binary_accuracy: 0.7614\n",
      "Epoch 6/20\n",
      "184/184 [==============================] - 74s 403ms/step - loss: 0.4615 - binary_accuracy: 0.7862 - val_loss: 0.5022 - val_binary_accuracy: 0.7603\n",
      "Epoch 7/20\n",
      "184/184 [==============================] - 74s 400ms/step - loss: 0.4603 - binary_accuracy: 0.7852 - val_loss: 0.4749 - val_binary_accuracy: 0.7821\n",
      "Epoch 8/20\n",
      "184/184 [==============================] - 74s 404ms/step - loss: 0.4616 - binary_accuracy: 0.7925 - val_loss: 0.5214 - val_binary_accuracy: 0.7549\n",
      "Epoch 9/20\n",
      "184/184 [==============================] - 74s 400ms/step - loss: 0.4633 - binary_accuracy: 0.7732 - val_loss: 0.4801 - val_binary_accuracy: 0.7778\n",
      "Epoch 10/20\n",
      "184/184 [==============================] - 72s 392ms/step - loss: 0.4554 - binary_accuracy: 0.7949 - val_loss: 0.4475 - val_binary_accuracy: 0.7985\n",
      "Epoch 11/20\n",
      "184/184 [==============================] - 71s 387ms/step - loss: 0.4560 - binary_accuracy: 0.7873 - val_loss: 0.4838 - val_binary_accuracy: 0.7712\n",
      "Epoch 12/20\n",
      "184/184 [==============================] - 70s 381ms/step - loss: 0.4487 - binary_accuracy: 0.7879 - val_loss: 0.4674 - val_binary_accuracy: 0.7963\n",
      "Epoch 13/20\n",
      "184/184 [==============================] - 70s 379ms/step - loss: 0.4484 - binary_accuracy: 0.7974 - val_loss: 0.4645 - val_binary_accuracy: 0.7691\n",
      "Epoch 14/20\n",
      "184/184 [==============================] - 70s 380ms/step - loss: 0.4440 - binary_accuracy: 0.7944 - val_loss: 0.4833 - val_binary_accuracy: 0.7985\n",
      "Epoch 15/20\n",
      "184/184 [==============================] - 71s 385ms/step - loss: 0.4417 - binary_accuracy: 0.8055 - val_loss: 0.4293 - val_binary_accuracy: 0.8181\n",
      "Epoch 16/20\n",
      "184/184 [==============================] - 69s 373ms/step - loss: 0.4425 - binary_accuracy: 0.7979 - val_loss: 0.4662 - val_binary_accuracy: 0.7810\n",
      "Epoch 17/20\n",
      "184/184 [==============================] - 70s 382ms/step - loss: 0.4339 - binary_accuracy: 0.8036 - val_loss: 0.4487 - val_binary_accuracy: 0.7887\n",
      "Epoch 18/20\n",
      "184/184 [==============================] - 70s 381ms/step - loss: 0.4333 - binary_accuracy: 0.7985 - val_loss: 0.4683 - val_binary_accuracy: 0.7778\n",
      "Epoch 19/20\n",
      "184/184 [==============================] - 777s 4s/step - loss: 0.4338 - binary_accuracy: 0.8104 - val_loss: 0.5075 - val_binary_accuracy: 0.7582\n",
      "Epoch 20/20\n",
      "184/184 [==============================] - 65s 355ms/step - loss: 0.4311 - binary_accuracy: 0.8053 - val_loss: 0.4477 - val_binary_accuracy: 0.8028\n"
     ]
    }
   ],
   "source": [
    "history = model.fit(\n",
    "    train_generator,\n",
    "    epochs=20,\n",
    "    validation_data=validation_generator)\n",
    "val_acc_aug = history.history['val_binary_accuracy']\n",
    "val_loss_aug = history.history['val_loss']"
   ]
  },
  {
   "cell_type": "code",
   "execution_count": 34,
   "metadata": {},
   "outputs": [
    {
     "data": {
      "text/plain": [
       "0.4828681945800781"
      ]
     },
     "execution_count": 34,
     "metadata": {},
     "output_type": "execute_result"
    }
   ],
   "source": [
    "loss_mean_aug = np.mean(val_loss_aug)\n",
    "loss_mean_aug"
   ]
  },
  {
   "cell_type": "markdown",
   "metadata": {},
   "source": [
    "# Question 6"
   ]
  },
  {
   "cell_type": "code",
   "execution_count": 35,
   "metadata": {},
   "outputs": [
    {
     "data": {
      "text/plain": [
       "0.7747276663780213"
      ]
     },
     "execution_count": 35,
     "metadata": {},
     "output_type": "execute_result"
    }
   ],
   "source": [
    "acc_mean_aug = np.mean(val_acc_aug[5:10])\n",
    "acc_mean_aug"
   ]
  }
 ],
 "metadata": {
  "kernelspec": {
   "display_name": "base",
   "language": "python",
   "name": "python3"
  },
  "language_info": {
   "codemirror_mode": {
    "name": "ipython",
    "version": 3
   },
   "file_extension": ".py",
   "mimetype": "text/x-python",
   "name": "python",
   "nbconvert_exporter": "python",
   "pygments_lexer": "ipython3",
   "version": "3.10.9"
  }
 },
 "nbformat": 4,
 "nbformat_minor": 2
}
