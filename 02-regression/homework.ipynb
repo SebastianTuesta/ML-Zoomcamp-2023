{
 "cells": [
  {
   "cell_type": "code",
   "execution_count": 69,
   "metadata": {},
   "outputs": [],
   "source": [
    "import pandas as pd\n",
    "df = pd.read_csv('https://raw.githubusercontent.com/alexeygrigorev/datasets/master/housing.csv')\n",
    "df = df[df['ocean_proximity'].isin(['<1H OCEAN', 'INLAND'])]\n",
    "df = df[[\n",
    "    'latitude',\n",
    "    'longitude',\n",
    "    'housing_median_age',\n",
    "    'total_rooms',\n",
    "    'total_bedrooms',\n",
    "    'population',\n",
    "    'households',\n",
    "    'median_income',\n",
    "    'median_house_value'\n",
    "]]"
   ]
  },
  {
   "cell_type": "markdown",
   "metadata": {},
   "source": [
    "# Question 1"
   ]
  },
  {
   "cell_type": "code",
   "execution_count": 70,
   "metadata": {},
   "outputs": [
    {
     "data": {
      "text/plain": [
       "Index(['total_bedrooms'], dtype='object')"
      ]
     },
     "execution_count": 70,
     "metadata": {},
     "output_type": "execute_result"
    }
   ],
   "source": [
    "df.columns[df.isna().sum()>0]"
   ]
  },
  {
   "cell_type": "markdown",
   "metadata": {},
   "source": [
    "# Question 2"
   ]
  },
  {
   "cell_type": "code",
   "execution_count": 71,
   "metadata": {},
   "outputs": [
    {
     "data": {
      "text/plain": [
       "1195.0"
      ]
     },
     "execution_count": 71,
     "metadata": {},
     "output_type": "execute_result"
    }
   ],
   "source": [
    "df['population'].median()"
   ]
  },
  {
   "cell_type": "markdown",
   "metadata": {},
   "source": [
    "# Question 3"
   ]
  },
  {
   "cell_type": "code",
   "execution_count": 72,
   "metadata": {},
   "outputs": [],
   "source": [
    "import sklearn.model_selection\n",
    "from sklearn.linear_model import LinearRegression\n",
    "from sklearn.utils import shuffle\n",
    "import numpy as np\n",
    "seed=42\n",
    "df = df.sample(frac=1, random_state=seed).reset_index(drop=True)\n",
    "\n",
    "df['median_house_value'] = np.log1p(df['median_house_value'])\n",
    "\n",
    "df_train, df_test = sklearn.model_selection.train_test_split(df, test_size = 0.2, random_state=seed)\n",
    "df_train, df_val = sklearn.model_selection.train_test_split(df_train, test_size = 0.25, random_state=seed)"
   ]
  },
  {
   "cell_type": "code",
   "execution_count": 74,
   "metadata": {},
   "outputs": [
    {
     "name": "stdout",
     "output_type": "stream",
     "text": [
      "Input zero RMSE: 0.11\n",
      "Input mean RMSE: 0.11\n"
     ]
    }
   ],
   "source": [
    "from sklearn.impute import SimpleImputer\n",
    "from sklearn.pipeline import Pipeline\n",
    "\n",
    "imp_mean = SimpleImputer(missing_values=np.nan, strategy='mean')\n",
    "imp_zero = SimpleImputer(missing_values=np.nan, strategy='constant', fill_value=0)\n",
    "\n",
    "y_column = 'median_house_value'\n",
    "X_columns = df.columns[df.columns != y_column]\n",
    "\n",
    "X_train = df_train[X_columns]\n",
    "y_train = df_train[y_column]\n",
    "model1 = Pipeline([('imputation', imp_zero), ('regression', LinearRegression())])\n",
    "model1.fit(X_train, y_train)\n",
    "model1.predict(df_val[X_columns])\n",
    "\n",
    "X_train = df_train[X_columns]\n",
    "y_train = df_train[y_column]\n",
    "model2 = Pipeline([('imputation', imp_mean), ('regression', LinearRegression())])\n",
    "model2.fit(X_train, y_train)\n",
    "\n",
    "from sklearn.metrics import mean_squared_error\n",
    "rms1 = mean_squared_error(df_val[y_column], model1.predict(df_val[X_columns]),squared=True)\n",
    "rms2 = mean_squared_error(df_val[y_column], model2.predict(df_val[X_columns]),squared=True)\n",
    "\n",
    "print(f\"Input zero RMSE: {round(rms1,2)}\")\n",
    "print(f\"Input mean RMSE: {round(rms2,2)}\")"
   ]
  },
  {
   "cell_type": "markdown",
   "metadata": {},
   "source": [
    "# Question 4"
   ]
  },
  {
   "cell_type": "code",
   "execution_count": 9,
   "metadata": {},
   "outputs": [],
   "source": [
    "#!pip install hypopt"
   ]
  },
  {
   "cell_type": "code",
   "execution_count": 75,
   "metadata": {},
   "outputs": [
    {
     "name": "stdout",
     "output_type": "stream",
     "text": [
      "{0: 0.11, 1e-06: 0.11, 0.0001: 0.11, 0.001: 0.11, 0.01: 0.11, 0.1: 0.11, 1: 0.11, 5: 0.11, 10: 0.11}\n"
     ]
    },
    {
     "data": {
      "text/plain": [
       "0"
      ]
     },
     "execution_count": 75,
     "metadata": {},
     "output_type": "execute_result"
    }
   ],
   "source": [
    "from sklearn.linear_model import Lasso, Ridge\n",
    "\n",
    "regression__alphas = [0, 0.000001, 0.0001, 0.001, 0.01, 0.1, 1, 5, 10]\n",
    "\n",
    "X_train = df_train[X_columns]\n",
    "y_train = df_train[y_column]\n",
    "\n",
    "rmses = {}\n",
    "\n",
    "for alpha in regression__alphas:\n",
    "    model3 = Pipeline([('imputation', imp_zero), ('regression', Ridge(alpha))])\n",
    "    model3.fit(X_train, y_train)\n",
    "    rms3 = mean_squared_error(df_val[y_column], model3.predict(df_val[X_columns]),squared=True)\n",
    "\n",
    "    rmses[alpha] = round(rms3,2)\n",
    "\n",
    "print(rmses)\n",
    "min(rmses, key=rmses.get)"
   ]
  },
  {
   "cell_type": "markdown",
   "metadata": {},
   "source": [
    "# Question 5"
   ]
  },
  {
   "cell_type": "code",
   "execution_count": 85,
   "metadata": {},
   "outputs": [
    {
     "name": "stdout",
     "output_type": "stream",
     "text": [
      "[0.34, 0.34, 0.33, 0.34, 0.33, 0.34, 0.34, 0.34, 0.33, 0.33]\n"
     ]
    },
    {
     "data": {
      "text/plain": [
       "0.00489897948556636"
      ]
     },
     "execution_count": 85,
     "metadata": {},
     "output_type": "execute_result"
    }
   ],
   "source": [
    "seeds = [0, 1, 2, 3, 4, 5, 6, 7, 8, 9]\n",
    "\n",
    "rmses = []\n",
    "\n",
    "for seed in seeds:\n",
    "    df = pd.read_csv('https://raw.githubusercontent.com/alexeygrigorev/datasets/master/housing.csv')\n",
    "    df = df[df['ocean_proximity'].isin(['<1H OCEAN', 'INLAND'])]\n",
    "    df = df[[\n",
    "        'latitude',\n",
    "        'longitude',\n",
    "        'housing_median_age',\n",
    "        'total_rooms',\n",
    "        'total_bedrooms',\n",
    "        'population',\n",
    "        'households',\n",
    "        'median_income',\n",
    "        'median_house_value'\n",
    "    ]]\n",
    "\n",
    "    df = df.sample(frac=1, random_state=seed).reset_index(drop=True)\n",
    "    df['median_house_value'] = np.log1p(df['median_house_value'])\n",
    "\n",
    "    df_train, df_test = sklearn.model_selection.train_test_split(df, test_size = 0.2, random_state=seed)\n",
    "    SimpleImputer, df_val = sklearn.model_selection.train_test_split(df_train, test_size = 0.25, random_state=seed)\n",
    "    \n",
    "    X_train = df_train[X_columns]\n",
    "    y_train = df_train[y_column]\n",
    "    \n",
    "    model5 = Pipeline([('imputation', imp_zero), ('regression', LinearRegression())])\n",
    "    model5.fit(X_train, y_train)\n",
    "    rms5 = mean_squared_error(df_val[y_column], model5.predict(df_val[X_columns]),squared=False)\n",
    "\n",
    "    rmses.append(round(rms5,2))\n",
    "\n",
    "np.std(rmses)"
   ]
  },
  {
   "cell_type": "markdown",
   "metadata": {},
   "source": [
    "# Question 6"
   ]
  },
  {
   "cell_type": "code",
   "execution_count": 53,
   "metadata": {},
   "outputs": [
    {
     "data": {
      "text/plain": [
       "0.33753410349699725"
      ]
     },
     "execution_count": 53,
     "metadata": {},
     "output_type": "execute_result"
    }
   ],
   "source": [
    "np.random.seed(9)\n",
    "df = pd.read_csv('https://raw.githubusercontent.com/alexeygrigorev/datasets/master/housing.csv')\n",
    "df = df[df['ocean_proximity'].isin(['<1H OCEAN', 'INLAND'])]\n",
    "df = df[[\n",
    "    'latitude',\n",
    "    'longitude',\n",
    "    'housing_median_age',\n",
    "    'total_rooms',\n",
    "    'total_bedrooms',\n",
    "    'population',\n",
    "    'households',\n",
    "    'median_income',\n",
    "    'median_house_value'\n",
    "]]\n",
    "\n",
    "df = df.sample(frac=1, random_state=seed).reset_index(drop=True)\n",
    "\n",
    "df['median_house_value'] = np.log1p(df['median_house_value'])\n",
    "\n",
    "df_train, df_test = sklearn.model_selection.train_test_split(df, test_size = 0.2, random_state=seed)\n",
    "\n",
    "model6 = Pipeline([('imputation', imp_zero), ('regression', Ridge(alpha=0.001))])\n",
    "model6.fit(X_train, y_train)\n",
    "rms6 = mean_squared_error(df_test[y_column], model6.predict(df_test[X_columns]),squared=False)\n",
    "rms6"
   ]
  }
 ],
 "metadata": {
  "kernelspec": {
   "display_name": "base",
   "language": "python",
   "name": "python3"
  },
  "language_info": {
   "codemirror_mode": {
    "name": "ipython",
    "version": 3
   },
   "file_extension": ".py",
   "mimetype": "text/x-python",
   "name": "python",
   "nbconvert_exporter": "python",
   "pygments_lexer": "ipython3",
   "version": "3.10.9"
  },
  "orig_nbformat": 4
 },
 "nbformat": 4,
 "nbformat_minor": 2
}
